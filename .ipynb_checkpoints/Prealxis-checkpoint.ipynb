{
 "cells": [
  {
   "cell_type": "code",
   "execution_count": 10,
   "metadata": {
    "collapsed": true,
    "ExecuteTime": {
     "end_time": "2024-02-15T14:32:49.304076800Z",
     "start_time": "2024-02-15T14:32:49.052010200Z"
    }
   },
   "outputs": [
    {
     "ename": "AttributeError",
     "evalue": "module 'numpy.__config__' has no attribute 'get_info'",
     "output_type": "error",
     "traceback": [
      "\u001B[1;31m---------------------------------------------------------------------------\u001B[0m",
      "\u001B[1;31mNoSectionError\u001B[0m                            Traceback (most recent call last)",
      "File \u001B[1;32m~\\anaconda3\\envs\\Praelexis\\lib\\site-packages\\pytensor\\configparser.py:201\u001B[0m, in \u001B[0;36mPyTensorConfigParser.fetch_val_for_key\u001B[1;34m(self, key, delete_key)\u001B[0m\n\u001B[0;32m    200\u001B[0m \u001B[38;5;28;01mtry\u001B[39;00m:\n\u001B[1;32m--> 201\u001B[0m     \u001B[38;5;28;01mreturn\u001B[39;00m \u001B[38;5;28;43mself\u001B[39;49m\u001B[38;5;241;43m.\u001B[39;49m\u001B[43m_pytensor_cfg\u001B[49m\u001B[38;5;241;43m.\u001B[39;49m\u001B[43mget\u001B[49m\u001B[43m(\u001B[49m\u001B[43msection\u001B[49m\u001B[43m,\u001B[49m\u001B[43m \u001B[49m\u001B[43moption\u001B[49m\u001B[43m)\u001B[49m\n\u001B[0;32m    202\u001B[0m \u001B[38;5;28;01mexcept\u001B[39;00m InterpolationError:\n",
      "File \u001B[1;32m~\\anaconda3\\envs\\Praelexis\\lib\\configparser.py:783\u001B[0m, in \u001B[0;36mRawConfigParser.get\u001B[1;34m(self, section, option, raw, vars, fallback)\u001B[0m\n\u001B[0;32m    782\u001B[0m \u001B[38;5;28;01mtry\u001B[39;00m:\n\u001B[1;32m--> 783\u001B[0m     d \u001B[38;5;241m=\u001B[39m \u001B[38;5;28;43mself\u001B[39;49m\u001B[38;5;241;43m.\u001B[39;49m\u001B[43m_unify_values\u001B[49m\u001B[43m(\u001B[49m\u001B[43msection\u001B[49m\u001B[43m,\u001B[49m\u001B[43m \u001B[49m\u001B[38;5;28;43mvars\u001B[39;49m\u001B[43m)\u001B[49m\n\u001B[0;32m    784\u001B[0m \u001B[38;5;28;01mexcept\u001B[39;00m NoSectionError:\n",
      "File \u001B[1;32m~\\anaconda3\\envs\\Praelexis\\lib\\configparser.py:1154\u001B[0m, in \u001B[0;36mRawConfigParser._unify_values\u001B[1;34m(self, section, vars)\u001B[0m\n\u001B[0;32m   1153\u001B[0m     \u001B[38;5;28;01mif\u001B[39;00m section \u001B[38;5;241m!=\u001B[39m \u001B[38;5;28mself\u001B[39m\u001B[38;5;241m.\u001B[39mdefault_section:\n\u001B[1;32m-> 1154\u001B[0m         \u001B[38;5;28;01mraise\u001B[39;00m NoSectionError(section) \u001B[38;5;28;01mfrom\u001B[39;00m \u001B[38;5;28;01mNone\u001B[39;00m\n\u001B[0;32m   1155\u001B[0m \u001B[38;5;66;03m# Update with the entry specific variables\u001B[39;00m\n",
      "\u001B[1;31mNoSectionError\u001B[0m: No section: 'blas'",
      "\nDuring handling of the above exception, another exception occurred:\n",
      "\u001B[1;31mKeyError\u001B[0m                                  Traceback (most recent call last)",
      "File \u001B[1;32m~\\anaconda3\\envs\\Praelexis\\lib\\site-packages\\pytensor\\configparser.py:317\u001B[0m, in \u001B[0;36mConfigParam.__get__\u001B[1;34m(self, cls, type_, delete_key)\u001B[0m\n\u001B[0;32m    316\u001B[0m \u001B[38;5;28;01mtry\u001B[39;00m:\n\u001B[1;32m--> 317\u001B[0m     val_str \u001B[38;5;241m=\u001B[39m \u001B[38;5;28;43mcls\u001B[39;49m\u001B[38;5;241;43m.\u001B[39;49m\u001B[43mfetch_val_for_key\u001B[49m\u001B[43m(\u001B[49m\u001B[38;5;28;43mself\u001B[39;49m\u001B[38;5;241;43m.\u001B[39;49m\u001B[43mname\u001B[49m\u001B[43m,\u001B[49m\u001B[43m \u001B[49m\u001B[43mdelete_key\u001B[49m\u001B[38;5;241;43m=\u001B[39;49m\u001B[43mdelete_key\u001B[49m\u001B[43m)\u001B[49m\n\u001B[0;32m    318\u001B[0m     \u001B[38;5;28mself\u001B[39m\u001B[38;5;241m.\u001B[39mis_default \u001B[38;5;241m=\u001B[39m \u001B[38;5;28;01mFalse\u001B[39;00m\n",
      "File \u001B[1;32m~\\anaconda3\\envs\\Praelexis\\lib\\site-packages\\pytensor\\configparser.py:205\u001B[0m, in \u001B[0;36mPyTensorConfigParser.fetch_val_for_key\u001B[1;34m(self, key, delete_key)\u001B[0m\n\u001B[0;32m    204\u001B[0m \u001B[38;5;28;01mexcept\u001B[39;00m (NoOptionError, NoSectionError):\n\u001B[1;32m--> 205\u001B[0m     \u001B[38;5;28;01mraise\u001B[39;00m \u001B[38;5;167;01mKeyError\u001B[39;00m(key)\n",
      "\u001B[1;31mKeyError\u001B[0m: 'blas__ldflags'",
      "\nDuring handling of the above exception, another exception occurred:\n",
      "\u001B[1;31mAttributeError\u001B[0m                            Traceback (most recent call last)",
      "Cell \u001B[1;32mIn[10], line 4\u001B[0m\n\u001B[0;32m      2\u001B[0m \u001B[38;5;28;01mimport\u001B[39;00m \u001B[38;5;21;01mmatplotlib\u001B[39;00m\u001B[38;5;21;01m.\u001B[39;00m\u001B[38;5;21;01mpyplot\u001B[39;00m \u001B[38;5;28;01mas\u001B[39;00m \u001B[38;5;21;01mplt\u001B[39;00m\n\u001B[0;32m      3\u001B[0m \u001B[38;5;66;03m# import numpy as np\u001B[39;00m\n\u001B[1;32m----> 4\u001B[0m \u001B[38;5;28;01mimport\u001B[39;00m \u001B[38;5;21;01mpymc\u001B[39;00m \u001B[38;5;28;01mas\u001B[39;00m \u001B[38;5;21;01mpm\u001B[39;00m\n\u001B[0;32m      5\u001B[0m \u001B[38;5;28;01mimport\u001B[39;00m \u001B[38;5;21;01mscipy\u001B[39;00m\u001B[38;5;21;01m.\u001B[39;00m\u001B[38;5;21;01mstats\u001B[39;00m \u001B[38;5;28;01mas\u001B[39;00m \u001B[38;5;21;01mstats\u001B[39;00m\n",
      "File \u001B[1;32m~\\anaconda3\\envs\\Praelexis\\lib\\site-packages\\pymc\\__init__.py:47\u001B[0m\n\u001B[0;32m     42\u001B[0m     augmented \u001B[38;5;241m=\u001B[39m \u001B[38;5;124mf\u001B[39m\u001B[38;5;124m\"\u001B[39m\u001B[38;5;132;01m{\u001B[39;00maugmented\u001B[38;5;132;01m}\u001B[39;00m\u001B[38;5;124m -fno-unwind-tables -fno-asynchronous-unwind-tables\u001B[39m\u001B[38;5;124m\"\u001B[39m\n\u001B[0;32m     44\u001B[0m     pytensor\u001B[38;5;241m.\u001B[39mconfig\u001B[38;5;241m.\u001B[39mgcc__cxxflags \u001B[38;5;241m=\u001B[39m augmented\n\u001B[1;32m---> 47\u001B[0m \u001B[43m__set_compiler_flags\u001B[49m\u001B[43m(\u001B[49m\u001B[43m)\u001B[49m\n\u001B[0;32m     49\u001B[0m \u001B[38;5;28;01mfrom\u001B[39;00m \u001B[38;5;21;01mpymc\u001B[39;00m \u001B[38;5;28;01mimport\u001B[39;00m _version, gp, ode, sampling\n\u001B[0;32m     50\u001B[0m \u001B[38;5;28;01mfrom\u001B[39;00m \u001B[38;5;21;01mpymc\u001B[39;00m\u001B[38;5;21;01m.\u001B[39;00m\u001B[38;5;21;01mbackends\u001B[39;00m \u001B[38;5;28;01mimport\u001B[39;00m \u001B[38;5;241m*\u001B[39m\n",
      "File \u001B[1;32m~\\anaconda3\\envs\\Praelexis\\lib\\site-packages\\pymc\\__init__.py:30\u001B[0m, in \u001B[0;36m__set_compiler_flags\u001B[1;34m()\u001B[0m\n\u001B[0;32m     28\u001B[0m \u001B[38;5;28;01mdef\u001B[39;00m \u001B[38;5;21m__set_compiler_flags\u001B[39m():\n\u001B[0;32m     29\u001B[0m     \u001B[38;5;66;03m# Workarounds for PyTensor compiler problems on various platforms\u001B[39;00m\n\u001B[1;32m---> 30\u001B[0m     \u001B[38;5;28;01mimport\u001B[39;00m \u001B[38;5;21;01mpytensor\u001B[39;00m\n\u001B[0;32m     32\u001B[0m     current \u001B[38;5;241m=\u001B[39m pytensor\u001B[38;5;241m.\u001B[39mconfig\u001B[38;5;241m.\u001B[39mgcc__cxxflags\n\u001B[0;32m     33\u001B[0m     augmented \u001B[38;5;241m=\u001B[39m \u001B[38;5;124mf\u001B[39m\u001B[38;5;124m\"\u001B[39m\u001B[38;5;132;01m{\u001B[39;00mcurrent\u001B[38;5;132;01m}\u001B[39;00m\u001B[38;5;124m -Wno-c++11-narrowing\u001B[39m\u001B[38;5;124m\"\u001B[39m\n",
      "File \u001B[1;32m~\\anaconda3\\envs\\Praelexis\\lib\\site-packages\\pytensor\\__init__.py:119\u001B[0m\n\u001B[0;32m    115\u001B[0m     \u001B[38;5;28;01mreturn\u001B[39;00m as_tensor_variable(x, \u001B[38;5;241m*\u001B[39m\u001B[38;5;241m*\u001B[39mkwargs)\n\u001B[0;32m    118\u001B[0m \u001B[38;5;66;03m# isort: off\u001B[39;00m\n\u001B[1;32m--> 119\u001B[0m \u001B[38;5;28;01mfrom\u001B[39;00m \u001B[38;5;21;01mpytensor\u001B[39;00m \u001B[38;5;28;01mimport\u001B[39;00m scalar, tensor\n\u001B[0;32m    120\u001B[0m \u001B[38;5;28;01mfrom\u001B[39;00m \u001B[38;5;21;01mpytensor\u001B[39;00m\u001B[38;5;21;01m.\u001B[39;00m\u001B[38;5;21;01mcompile\u001B[39;00m \u001B[38;5;28;01mimport\u001B[39;00m (\n\u001B[0;32m    121\u001B[0m     In,\n\u001B[0;32m    122\u001B[0m     Mode,\n\u001B[1;32m   (...)\u001B[0m\n\u001B[0;32m    128\u001B[0m     shared,\n\u001B[0;32m    129\u001B[0m )\n\u001B[0;32m    130\u001B[0m \u001B[38;5;28;01mfrom\u001B[39;00m \u001B[38;5;21;01mpytensor\u001B[39;00m\u001B[38;5;21;01m.\u001B[39;00m\u001B[38;5;21;01mcompile\u001B[39;00m\u001B[38;5;21;01m.\u001B[39;00m\u001B[38;5;21;01mfunction\u001B[39;00m \u001B[38;5;28;01mimport\u001B[39;00m function, function_dump\n",
      "File \u001B[1;32m~\\anaconda3\\envs\\Praelexis\\lib\\site-packages\\pytensor\\tensor\\__init__.py:106\u001B[0m\n\u001B[0;32m    104\u001B[0m \u001B[38;5;66;03m# adds shared-variable constructors\u001B[39;00m\n\u001B[0;32m    105\u001B[0m \u001B[38;5;28;01mfrom\u001B[39;00m \u001B[38;5;21;01mpytensor\u001B[39;00m\u001B[38;5;21;01m.\u001B[39;00m\u001B[38;5;21;01mtensor\u001B[39;00m \u001B[38;5;28;01mimport\u001B[39;00m sharedvar  \u001B[38;5;66;03m# noqa\u001B[39;00m\n\u001B[1;32m--> 106\u001B[0m \u001B[38;5;28;01mfrom\u001B[39;00m \u001B[38;5;21;01mpytensor\u001B[39;00m\u001B[38;5;21;01m.\u001B[39;00m\u001B[38;5;21;01mtensor\u001B[39;00m \u001B[38;5;28;01mimport\u001B[39;00m (  \u001B[38;5;66;03m# noqa\u001B[39;00m\n\u001B[0;32m    107\u001B[0m     blas,\n\u001B[0;32m    108\u001B[0m     blas_c,\n\u001B[0;32m    109\u001B[0m     blas_scipy,\n\u001B[0;32m    110\u001B[0m     xlogx,\n\u001B[0;32m    111\u001B[0m )\n\u001B[0;32m    112\u001B[0m \u001B[38;5;28;01mimport\u001B[39;00m \u001B[38;5;21;01mpytensor\u001B[39;00m\u001B[38;5;21;01m.\u001B[39;00m\u001B[38;5;21;01mtensor\u001B[39;00m\u001B[38;5;21;01m.\u001B[39;00m\u001B[38;5;21;01mrewriting\u001B[39;00m\n\u001B[0;32m    115\u001B[0m \u001B[38;5;66;03m# isort: off\u001B[39;00m\n",
      "File \u001B[1;32m~\\anaconda3\\envs\\Praelexis\\lib\\site-packages\\pytensor\\tensor\\blas.py:102\u001B[0m\n\u001B[0;32m    100\u001B[0m \u001B[38;5;28;01mfrom\u001B[39;00m \u001B[38;5;21;01mpytensor\u001B[39;00m\u001B[38;5;21;01m.\u001B[39;00m\u001B[38;5;21;01mscalar\u001B[39;00m \u001B[38;5;28;01mimport\u001B[39;00m \u001B[38;5;28mbool\u001B[39m \u001B[38;5;28;01mas\u001B[39;00m bool_t\n\u001B[0;32m    101\u001B[0m \u001B[38;5;28;01mfrom\u001B[39;00m \u001B[38;5;21;01mpytensor\u001B[39;00m\u001B[38;5;21;01m.\u001B[39;00m\u001B[38;5;21;01mtensor\u001B[39;00m \u001B[38;5;28;01mimport\u001B[39;00m basic \u001B[38;5;28;01mas\u001B[39;00m at\n\u001B[1;32m--> 102\u001B[0m \u001B[38;5;28;01mfrom\u001B[39;00m \u001B[38;5;21;01mpytensor\u001B[39;00m\u001B[38;5;21;01m.\u001B[39;00m\u001B[38;5;21;01mtensor\u001B[39;00m\u001B[38;5;21;01m.\u001B[39;00m\u001B[38;5;21;01mblas_headers\u001B[39;00m \u001B[38;5;28;01mimport\u001B[39;00m blas_header_text, blas_header_version\n\u001B[0;32m    103\u001B[0m \u001B[38;5;28;01mfrom\u001B[39;00m \u001B[38;5;21;01mpytensor\u001B[39;00m\u001B[38;5;21;01m.\u001B[39;00m\u001B[38;5;21;01mtensor\u001B[39;00m\u001B[38;5;21;01m.\u001B[39;00m\u001B[38;5;21;01melemwise\u001B[39;00m \u001B[38;5;28;01mimport\u001B[39;00m DimShuffle\n\u001B[0;32m    104\u001B[0m \u001B[38;5;28;01mfrom\u001B[39;00m \u001B[38;5;21;01mpytensor\u001B[39;00m\u001B[38;5;21;01m.\u001B[39;00m\u001B[38;5;21;01mtensor\u001B[39;00m\u001B[38;5;21;01m.\u001B[39;00m\u001B[38;5;21;01mmath\u001B[39;00m \u001B[38;5;28;01mimport\u001B[39;00m add, mul, neg, sub\n",
      "File \u001B[1;32m~\\anaconda3\\envs\\Praelexis\\lib\\site-packages\\pytensor\\tensor\\blas_headers.py:1015\u001B[0m\n\u001B[0;32m    997\u001B[0m             header \u001B[38;5;241m+\u001B[39m\u001B[38;5;241m=\u001B[39m textwrap\u001B[38;5;241m.\u001B[39mdedent(\n\u001B[0;32m    998\u001B[0m \u001B[38;5;250m                \u001B[39m\u001B[38;5;124;03m\"\"\"\\\u001B[39;00m\n\u001B[0;32m    999\u001B[0m \u001B[38;5;124;03m                    static float sdot_(int* Nx, float* x, int* Sx, float* y, int* Sy)\u001B[39;00m\n\u001B[1;32m   (...)\u001B[0m\n\u001B[0;32m   1009\u001B[0m \u001B[38;5;124;03m                    \"\"\"\u001B[39;00m\n\u001B[0;32m   1010\u001B[0m             )\n\u001B[0;32m   1012\u001B[0m     \u001B[38;5;28;01mreturn\u001B[39;00m header \u001B[38;5;241m+\u001B[39m blas_code\n\u001B[1;32m-> 1015\u001B[0m \u001B[38;5;28;01mif\u001B[39;00m \u001B[38;5;129;01mnot\u001B[39;00m \u001B[43mconfig\u001B[49m\u001B[38;5;241;43m.\u001B[39;49m\u001B[43mblas__ldflags\u001B[49m:\n\u001B[0;32m   1016\u001B[0m     _logger\u001B[38;5;241m.\u001B[39mwarning(\u001B[38;5;124m\"\u001B[39m\u001B[38;5;124mUsing NumPy C-API based implementation for BLAS functions.\u001B[39m\u001B[38;5;124m\"\u001B[39m)\n\u001B[0;32m   1019\u001B[0m \u001B[38;5;28;01mdef\u001B[39;00m \u001B[38;5;21mmkl_threads_text\u001B[39m():\n",
      "File \u001B[1;32m~\\anaconda3\\envs\\Praelexis\\lib\\site-packages\\pytensor\\configparser.py:321\u001B[0m, in \u001B[0;36mConfigParam.__get__\u001B[1;34m(self, cls, type_, delete_key)\u001B[0m\n\u001B[0;32m    319\u001B[0m \u001B[38;5;28;01mexcept\u001B[39;00m \u001B[38;5;167;01mKeyError\u001B[39;00m:\n\u001B[0;32m    320\u001B[0m     \u001B[38;5;28;01mif\u001B[39;00m \u001B[38;5;28mcallable\u001B[39m(\u001B[38;5;28mself\u001B[39m\u001B[38;5;241m.\u001B[39mdefault):\n\u001B[1;32m--> 321\u001B[0m         val_str \u001B[38;5;241m=\u001B[39m \u001B[38;5;28;43mself\u001B[39;49m\u001B[38;5;241;43m.\u001B[39;49m\u001B[43mdefault\u001B[49m\u001B[43m(\u001B[49m\u001B[43m)\u001B[49m\n\u001B[0;32m    322\u001B[0m     \u001B[38;5;28;01melse\u001B[39;00m:\n\u001B[0;32m    323\u001B[0m         val_str \u001B[38;5;241m=\u001B[39m \u001B[38;5;28mself\u001B[39m\u001B[38;5;241m.\u001B[39mdefault\n",
      "File \u001B[1;32m~\\anaconda3\\envs\\Praelexis\\lib\\site-packages\\pytensor\\link\\c\\cmodule.py:2720\u001B[0m, in \u001B[0;36mdefault_blas_ldflags\u001B[1;34m()\u001B[0m\n\u001B[0;32m   2718\u001B[0m warn_record \u001B[38;5;241m=\u001B[39m []\n\u001B[0;32m   2719\u001B[0m \u001B[38;5;28;01mtry\u001B[39;00m:\n\u001B[1;32m-> 2720\u001B[0m     blas_info \u001B[38;5;241m=\u001B[39m \u001B[43mnp\u001B[49m\u001B[38;5;241;43m.\u001B[39;49m\u001B[43m__config__\u001B[49m\u001B[38;5;241;43m.\u001B[39;49m\u001B[43mget_info\u001B[49m(\u001B[38;5;124m\"\u001B[39m\u001B[38;5;124mblas_opt\u001B[39m\u001B[38;5;124m\"\u001B[39m)\n\u001B[0;32m   2722\u001B[0m     \u001B[38;5;66;03m# If we are in a EPD installation, mkl is available\u001B[39;00m\n\u001B[0;32m   2723\u001B[0m     \u001B[38;5;28;01mif\u001B[39;00m \u001B[38;5;124m\"\u001B[39m\u001B[38;5;124mEPD\u001B[39m\u001B[38;5;124m\"\u001B[39m \u001B[38;5;129;01min\u001B[39;00m sys\u001B[38;5;241m.\u001B[39mversion:\n",
      "\u001B[1;31mAttributeError\u001B[0m: module 'numpy.__config__' has no attribute 'get_info'"
     ]
    }
   ],
   "source": [
    "import arviz as az\n",
    "import matplotlib.pyplot as plt\n",
    "# import numpy as np\n",
    "import pymc as pm\n",
    "import scipy.stats as stats\n",
    "\n"
   ]
  },
  {
   "cell_type": "code",
   "execution_count": null,
   "outputs": [],
   "source": [
    "print(\"\"\"pymc version: \\n PyMC{}\"\"\")"
   ],
   "metadata": {
    "collapsed": false
   }
  }
 ],
 "metadata": {
  "kernelspec": {
   "display_name": "Python 3",
   "language": "python",
   "name": "python3"
  },
  "language_info": {
   "codemirror_mode": {
    "name": "ipython",
    "version": 2
   },
   "file_extension": ".py",
   "mimetype": "text/x-python",
   "name": "python",
   "nbconvert_exporter": "python",
   "pygments_lexer": "ipython2",
   "version": "2.7.6"
  }
 },
 "nbformat": 4,
 "nbformat_minor": 0
}
